{
 "cells": [
  {
   "cell_type": "code",
   "execution_count": 1,
   "id": "dfdf2696",
   "metadata": {},
   "outputs": [
    {
     "name": "stdout",
     "output_type": "stream",
     "text": [
      "1000.00\n"
     ]
    }
   ],
   "source": [
    "from decimal import Decimal     #this will convert String into decimal you need to just import this module.\n",
    "Principle = Decimal('1000.00')  \n",
    "print(Principle)"
   ]
  },
  {
   "cell_type": "code",
   "execution_count": 2,
   "id": "315b0fb1",
   "metadata": {},
   "outputs": [
    {
     "name": "stdout",
     "output_type": "stream",
     "text": [
      "21.8\n"
     ]
    }
   ],
   "source": [
    "x=Decimal('12.5')\n",
    "y=Decimal('9.3')\n",
    "print(x+y)"
   ]
  },
  {
   "cell_type": "code",
   "execution_count": 6,
   "id": "ff100d2c",
   "metadata": {},
   "outputs": [
    {
     "name": "stdout",
     "output_type": "stream",
     "text": [
      "64.25\n",
      "61.5\n",
      "45\n"
     ]
    }
   ],
   "source": [
    "import statistics\n",
    "grade=[45,67,56,89]\n",
    "print(statistics.mean(grade))\n",
    "print(statistics.median(grade))\n",
    "print(statistics.mode(grade))"
   ]
  },
  {
   "cell_type": "code",
   "execution_count": 9,
   "id": "e7c320e8",
   "metadata": {},
   "outputs": [
    {
     "name": "stdout",
     "output_type": "stream",
     "text": [
      "A a d a r s h "
     ]
    }
   ],
   "source": [
    "name = \"Aadarsh\"\n",
    "for char in name:\n",
    "    print(char, end=' ')"
   ]
  },
  {
   "cell_type": "code",
   "execution_count": 12,
   "id": "eda294b4",
   "metadata": {},
   "outputs": [
    {
     "name": "stdout",
     "output_type": "stream",
     "text": [
      "the value of count is10\n",
      "the value of count is9\n",
      "the value of count is8\n",
      "the value of count is7\n",
      "the value of count is6\n",
      "the value of count is5\n",
      "the value of count is4\n",
      "the value of count is3\n",
      "the value of count is2\n"
     ]
    }
   ],
   "source": [
    "x=10\n",
    "while x>1:\n",
    "    print(f'the value of count is{x}')\n",
    "    x-=1"
   ]
  },
  {
   "cell_type": "code",
   "execution_count": 14,
   "id": "14920109",
   "metadata": {},
   "outputs": [
    {
     "name": "stdout",
     "output_type": "stream",
     "text": [
      "17\n"
     ]
    }
   ],
   "source": [
    "def square(num): #calculating square of a number\n",
    "    return num**2\n",
    "x=square(4)\n",
    "x=x+1\n",
    "print(x)"
   ]
  },
  {
   "cell_type": "code",
   "execution_count": null,
   "id": "73f87dfb",
   "metadata": {},
   "outputs": [],
   "source": []
  }
 ],
 "metadata": {
  "kernelspec": {
   "display_name": "Python 3 (ipykernel)",
   "language": "python",
   "name": "python3"
  },
  "language_info": {
   "codemirror_mode": {
    "name": "ipython",
    "version": 3
   },
   "file_extension": ".py",
   "mimetype": "text/x-python",
   "name": "python",
   "nbconvert_exporter": "python",
   "pygments_lexer": "ipython3",
   "version": "3.9.12"
  }
 },
 "nbformat": 4,
 "nbformat_minor": 5
}
