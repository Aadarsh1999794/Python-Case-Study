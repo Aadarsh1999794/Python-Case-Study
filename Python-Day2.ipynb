{
 "cells": [
  {
   "cell_type": "code",
   "execution_count": 2,
   "id": "4bea0ee9",
   "metadata": {},
   "outputs": [
    {
     "name": "stdout",
     "output_type": "stream",
     "text": [
      "1 5 5 1 6 5 3 1 2 "
     ]
    }
   ],
   "source": [
    "import random    #this used to create random number in a code\n",
    "for roll in range(1,10):\n",
    "    print(random.randrange(1,7),end=\" \")\n"
   ]
  },
  {
   "cell_type": "code",
   "execution_count": 5,
   "id": "da501763",
   "metadata": {},
   "outputs": [
    {
     "data": {
      "text/plain": [
       "2434"
      ]
     },
     "execution_count": 5,
     "metadata": {},
     "output_type": "execute_result"
    }
   ],
   "source": [
    "max(14,3,100,34,2434)"
   ]
  },
  {
   "cell_type": "code",
   "execution_count": 6,
   "id": "7f4b2a24",
   "metadata": {},
   "outputs": [
    {
     "data": {
      "text/plain": [
       "33"
      ]
     },
     "execution_count": 6,
     "metadata": {},
     "output_type": "execute_result"
    }
   ],
   "source": [
    "min(34,45,56,33)"
   ]
  },
  {
   "cell_type": "code",
   "execution_count": 10,
   "id": "82e899e9",
   "metadata": {},
   "outputs": [
    {
     "name": "stdout",
     "output_type": "stream",
     "text": [
      "Facefrequence\n",
      "   1       998979\n",
      "   2       999405\n",
      "   3      1000086\n",
      "   4      1001170\n",
      "   5       999925\n",
      "   6      1000435\n"
     ]
    }
   ],
   "source": [
    "frequence1=0\n",
    "frequence2=0\n",
    "frequence3=0\n",
    "frequence4=0\n",
    "frequence5=0\n",
    "frequence6=0\n",
    "for roll in range(6_000_000):\n",
    "    face=random.randrange(1,7)\n",
    "    if face==1:\n",
    "        frequence1+=1\n",
    "    elif face==2:\n",
    "        frequence2+=1\n",
    "    elif face==3:\n",
    "        frequence3+=1\n",
    "    elif face==4:\n",
    "        frequence4+=1\n",
    "    elif face==5:\n",
    "        frequence5+=1\n",
    "    elif face==6:\n",
    "        frequence6+=1\n",
    "print(f'Face{\"frequence\"}')\n",
    "print(f'{1:>4}{frequence1:>13}')\n",
    "print(f'{2:>4}{frequence2:>13}')\n",
    "print(f'{3:>4}{frequence3:>13}')\n",
    "print(f'{4:>4}{frequence4:>13}')\n",
    "print(f'{5:>4}{frequence5:>13}')\n",
    "print(f'{6:>4}{frequence6:>13}')        "
   ]
  },
  {
   "cell_type": "code",
   "execution_count": 13,
   "id": "97cc0479",
   "metadata": {},
   "outputs": [
    {
     "name": "stdout",
     "output_type": "stream",
     "text": [
      "1 3 5 3 1 5 6 4 3 5 "
     ]
    }
   ],
   "source": [
    "random.seed(32)\n",
    "for roll in range(10):\n",
    "    print(random.randrange(1,7),end=' ')"
   ]
  },
  {
   "cell_type": "code",
   "execution_count": 14,
   "id": "73b6bd3d",
   "metadata": {},
   "outputs": [
    {
     "name": "stdout",
     "output_type": "stream",
     "text": [
      "Hello world\n"
     ]
    }
   ],
   "source": [
    "# Case stydy : A Game of chance\n",
    "\n",
    "\"\"\"you roll two six sided dices, each with faces containing one,two,three,four,five,six spots respectively.\n",
    "   when the dice come to rest, the sum of the spots on the two upword faces is calculated if the sum is 7 or 11 on the \n",
    "   first roll. you win, if the sum of 2,3 or 12 on the first roll (callled \"craps\"), you lose (i.e. the \"house\" wins).\n",
    "   if the sum is 4,5,6,8,9,20 in the first roll thats sum become your point to win, you must containg rolling the dice untill\n",
    "   you make your point(i.e roll that the same point value.) you lose by rolling a 7 before makeing your point\"\"\"\n",
    "print(\"Hello world\")\n"
   ]
  },
  {
   "cell_type": "code",
   "execution_count": 22,
   "id": "e8c07b39",
   "metadata": {},
   "outputs": [
    {
     "name": "stdout",
     "output_type": "stream",
     "text": [
      "player rolled 6 + 4 = 10\n",
      "point is: 10\n",
      "player rolled 2 + 5 = 7\n",
      "player Lost\n"
     ]
    }
   ],
   "source": [
    "import random\n",
    "def roll_dice():\n",
    "    dice1=random.randrange(1,7)\n",
    "    dice2=random.randrange(1,7)\n",
    "    return dice1,dice2\n",
    "def display_dice(dice):\n",
    "    dice1,dice2=dice\n",
    "    print(f'player rolled {dice1} + {dice2} = {sum(dice)}')\n",
    "dice_value=roll_dice()\n",
    "display_dice(dice_value)\n",
    "\n",
    "#determine dice value in first rolled\n",
    "\n",
    "sum_of_dice=sum(dice_value)\n",
    "\n",
    "if sum_of_dice in (7,11):\n",
    "    game_Status = 'WON'\n",
    "elif sum_of_dice in (2,3,12):\n",
    "    game_Status = 'LOST'\n",
    "else:\n",
    "    game_Status = 'CONTINUE'\n",
    "    my_point=sum_of_dice\n",
    "    print('point is:',my_point)\n",
    "\n",
    "while game_Status == 'CONTINUE':\n",
    "    dice_value=roll_dice()\n",
    "    display_dice(dice_value)\n",
    "    sum_of_dice=sum(dice_value)\n",
    "    if sum_of_dice == my_point:\n",
    "        game_Status='WON'\n",
    "    elif sum_of_dice ==7:\n",
    "        game_Status='LOST'\n",
    "if game_Status == 'WON':\n",
    "    print(\"Player win\")\n",
    "else:\n",
    "    print(\"player Lost\")      \n",
    "    \n",
    "\n",
    "\n",
    "    "
   ]
  },
  {
   "cell_type": "code",
   "execution_count": null,
   "id": "06d1e79f",
   "metadata": {},
   "outputs": [],
   "source": []
  },
  {
   "cell_type": "code",
   "execution_count": null,
   "id": "1b5f0d51",
   "metadata": {},
   "outputs": [],
   "source": []
  }
 ],
 "metadata": {
  "kernelspec": {
   "display_name": "Python 3 (ipykernel)",
   "language": "python",
   "name": "python3"
  },
  "language_info": {
   "codemirror_mode": {
    "name": "ipython",
    "version": 3
   },
   "file_extension": ".py",
   "mimetype": "text/x-python",
   "name": "python",
   "nbconvert_exporter": "python",
   "pygments_lexer": "ipython3",
   "version": "3.9.12"
  }
 },
 "nbformat": 4,
 "nbformat_minor": 5
}
